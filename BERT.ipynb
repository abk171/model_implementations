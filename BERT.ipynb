{
 "cells": [
  {
   "cell_type": "code",
   "execution_count": 2,
   "id": "6a5edcc4-1813-4d10-a3dc-0e96d1154ae6",
   "metadata": {},
   "outputs": [],
   "source": [
    "import torch\n",
    "import torch.nn as nn\n",
    "from torchsummary import summary"
   ]
  },
  {
   "cell_type": "code",
   "execution_count": 19,
   "id": "74c29ef7-8214-4bc0-ad67-e43d8e9a2484",
   "metadata": {},
   "outputs": [],
   "source": [
    "class DyT(nn.Module):\n",
    "    def __init__(self, dims, init_alpha=0.5, **kwargs):\n",
    "        super().__init__()\n",
    "        self.alpha = nn.Parameter(torch.ones(1) * init_alpha)\n",
    "        self.beta = nn.Parameter(torch.zeros(dims))\n",
    "        self.gamma = nn.Parameter(torch.ones(dims))\n",
    "\n",
    "    def forward(self, x):\n",
    "        return self.gamma * torch.tanh(self.alpha * x) + self.beta"
   ]
  },
  {
   "cell_type": "code",
   "execution_count": 52,
   "id": "ce7ede23-c6fc-4e2d-8537-33a0cb4a7a41",
   "metadata": {},
   "outputs": [],
   "source": [
    "class Encoder_Block(nn.Module): ## prenorm support\n",
    "    def __init__(self, dim=768, num_heads=12, d_mha=0.1, d_ff=0.1, d_res=0.1, prenorm=True, **kwargs):\n",
    "        super().__init__()\n",
    "        ff_hidden_dim=dim*4\n",
    "        self.prenorm = prenorm ## BERT uses postnorm\n",
    "\n",
    "        self.mha = nn.MultiheadAttention(dim, num_heads, d_mha, batch_first=True)\n",
    "        self.norm1 = DyT(dim, **kwargs)\n",
    "\n",
    "        self.ff = nn.Sequential(\n",
    "            nn.Linear(dim, ff_hidden_dim),\n",
    "            nn.ReLU(),\n",
    "            nn.Linear(ff_hidden_dim, dim),\n",
    "            nn.Dropout(d_ff)\n",
    "        )\n",
    "\n",
    "        self.norm2 = DyT(dim, **kwargs)\n",
    "        self.dropout = nn.Dropout(d_res)\n",
    "\n",
    "    def forward(self, x, pad_mask=None):\n",
    "        if self.prenorm:\n",
    "            x = self.norm1(x)\n",
    "\n",
    "        attn_output, _ = self.mha(x, x, x, key_padding_mask=pad_mask)\n",
    "        x = x + self.dropout(attn_output)\n",
    "\n",
    "        if not self.prenorm:\n",
    "            x = self.norm1(x)\n",
    "\n",
    "        if self.prenorm:\n",
    "            x = self.norm2(x)\n",
    "\n",
    "        ff_output = self.ff(x)\n",
    "        x = x + self.dropout(ff_output)\n",
    "\n",
    "        if not self.prenorm:\n",
    "            x = self.norm2(x)\n",
    "\n",
    "        return x"
   ]
  },
  {
   "cell_type": "code",
   "execution_count": 42,
   "id": "17473517-2434-43b0-b3d2-866ed17f06b8",
   "metadata": {},
   "outputs": [],
   "source": [
    "class Encoder(nn.Module):\n",
    "    def __init__(self, num_layers=12, dim=768, prenorm=True, **kwargs):\n",
    "        super().__init__()\n",
    "\n",
    "        self.layers = nn.ModuleList([\n",
    "            Encoder_Block(dim, prenorm=prenorm, **kwargs) for _ in range(num_layers)\n",
    "        ])\n",
    "\n",
    "        self.norm = DyT(dim)\n",
    "        self.prenorm = prenorm\n",
    "\n",
    "    def forward(self, x, pad_mask=None):\n",
    "        for block in self.layers:\n",
    "            x = block(x, pad_mask)\n",
    "        x = self.norm(x)\n",
    "\n",
    "        return x"
   ]
  },
  {
   "cell_type": "code",
   "execution_count": 43,
   "id": "361f12d7-e00f-4141-bc9d-4e26edafcc60",
   "metadata": {},
   "outputs": [
    {
     "name": "stdout",
     "output_type": "stream",
     "text": [
      "----------------------------------------------------------------\n",
      "        Layer (type)               Output Shape         Param #\n",
      "================================================================\n",
      "               DyT-1             [-1, 512, 768]               0\n",
      "MultiheadAttention-2  [[-1, 512, 768], [-1, 512, 512]]               0\n",
      "           Dropout-3             [-1, 512, 768]               0\n",
      "               DyT-4             [-1, 512, 768]               0\n",
      "            Linear-5            [-1, 512, 3072]       2,362,368\n",
      "              ReLU-6            [-1, 512, 3072]               0\n",
      "            Linear-7             [-1, 512, 768]       2,360,064\n",
      "           Dropout-8             [-1, 512, 768]               0\n",
      "           Dropout-9             [-1, 512, 768]               0\n",
      "    Encoder_Block-10             [-1, 512, 768]               0\n",
      "              DyT-11             [-1, 512, 768]               0\n",
      "MultiheadAttention-12  [[-1, 512, 768], [-1, 512, 512]]               0\n",
      "          Dropout-13             [-1, 512, 768]               0\n",
      "              DyT-14             [-1, 512, 768]               0\n",
      "           Linear-15            [-1, 512, 3072]       2,362,368\n",
      "             ReLU-16            [-1, 512, 3072]               0\n",
      "           Linear-17             [-1, 512, 768]       2,360,064\n",
      "          Dropout-18             [-1, 512, 768]               0\n",
      "          Dropout-19             [-1, 512, 768]               0\n",
      "    Encoder_Block-20             [-1, 512, 768]               0\n",
      "              DyT-21             [-1, 512, 768]               0\n",
      "================================================================\n",
      "Total params: 9,444,864\n",
      "Trainable params: 9,444,864\n",
      "Non-trainable params: 0\n",
      "----------------------------------------------------------------\n",
      "Input size (MB): 1.50\n",
      "Forward/backward pass size (MB): 1572771.00\n",
      "Params size (MB): 36.03\n",
      "Estimated Total Size (MB): 1572808.53\n",
      "----------------------------------------------------------------\n"
     ]
    }
   ],
   "source": [
    "summary(Encoder(num_layers=2).to('cuda'), (512, 768), device='cuda')"
   ]
  },
  {
   "cell_type": "code",
   "execution_count": 48,
   "id": "6f1c98a3-d690-471f-8170-dcd4c08a2cba",
   "metadata": {},
   "outputs": [],
   "source": [
    "class MyBERT(nn.Module):\n",
    "    def __init__(self, vocab_size, seq_len=512, dim=768, **kwargs):\n",
    "        super().__init__()\n",
    "        self.encoder = Encoder(dim=dim,**kwargs)\n",
    "        self.token_embeddings = nn.Embedding(vocab_size, dim)\n",
    "        self.segment_embeddings = nn.Embedding(2, dim)\n",
    "        self.positional_embeddings = nn.Embedding(seq_len, dim)\n",
    "        self.register_buffer(\"position_ids\", torch.arange(seq_len).unsqueeze(0))\n",
    "        \n",
    "    def forward(self, x, segment, pad_mask=None):\n",
    "        batch_size, seq_len = x.shape\n",
    "        position_ids = self.position_ids.expand(batch_size, seq_len)\n",
    "        x = self.token_embeddings(x) + self.segment_embeddings(segment) + self.positional_embeddings(position_ids)\n",
    "\n",
    "        x = self.encoder(x, pad_mask)\n",
    "\n",
    "        return x"
   ]
  },
  {
   "cell_type": "code",
   "execution_count": 54,
   "id": "34f66a1b-5381-4710-8480-cf35d82f3bc5",
   "metadata": {},
   "outputs": [],
   "source": [
    "bert = MyBERT(1000, dim=768, num_layers=4)"
   ]
  },
  {
   "cell_type": "code",
   "execution_count": 55,
   "id": "c7c0f902-ed2f-4853-bf29-5db68e31b764",
   "metadata": {},
   "outputs": [
    {
     "name": "stdout",
     "output_type": "stream",
     "text": [
      "torch.Size([2, 512, 768])\n"
     ]
    }
   ],
   "source": [
    "batch_size = 2\n",
    "seq_len = 512\n",
    "\n",
    "# Random input IDs between 0 and 999\n",
    "x = torch.randint(0, 1000, (batch_size, seq_len))\n",
    "\n",
    "# Dummy segment IDs (all 0s = single segment for now)\n",
    "segment = torch.zeros_like(x, dtype=torch.long)\n",
    "\n",
    "# Optional padding mask (1 = real token, 0 = pad)\n",
    "pad_mask = torch.ones_like(x, dtype=torch.bool)  # full attention for now\n",
    "\n",
    "# Forward pass\n",
    "output = bert(x, segment, pad_mask)\n",
    "print(output.shape)  # should be [2, 16, 768]"
   ]
  }
 ],
 "metadata": {
  "kernelspec": {
   "display_name": "Python 3 (ipykernel)",
   "language": "python",
   "name": "python3"
  },
  "language_info": {
   "codemirror_mode": {
    "name": "ipython",
    "version": 3
   },
   "file_extension": ".py",
   "mimetype": "text/x-python",
   "name": "python",
   "nbconvert_exporter": "python",
   "pygments_lexer": "ipython3",
   "version": "3.10.12"
  }
 },
 "nbformat": 4,
 "nbformat_minor": 5
}
